{
 "cells": [
  {
   "cell_type": "code",
   "execution_count": 1,
   "metadata": {
    "ExecuteTime": {
     "end_time": "2023-12-24T04:03:47.189140100Z",
     "start_time": "2023-12-24T04:03:47.087910300Z"
    },
    "notebookRunGroups": {
     "groupValue": ""
    },
    "pycharm": {
     "name": "#%%\n"
    }
   },
   "outputs": [],
   "source": [
    "%reload_ext autoreload\n",
    "%autoreload 2\n",
    "\n",
    "from crowd_certain.utilities import utils, dataset_loader, params\n",
    "from crowd_certain.utilities.settings import get_settings, Settings\n",
    "import json\n",
    "import pathlib\n",
    "import os\n",
    "import pandas as pd"
   ]
  },
  {
   "cell_type": "code",
   "execution_count": 4,
   "metadata": {},
   "outputs": [
    {
     "name": "stdout",
     "output_type": "stream",
     "text": [
      "------- path_all_datasets/Users/artinmajdi/Documents/GitHubs/PhD/code/submodules/crowd/crowd_certain/datasets\n"
     ]
    },
    {
     "data": {
      "text/plain": [
       "Settings(dataset=DatasetSettings(data_mode=<DataModes.TRAIN: 'train'>, path_all_datasets=PosixPath('/Users/artinmajdi/Documents/GitHubs/PhD/code/submodules/crowd/crowd_certain/datasets'), dataset_name=<DatasetNames.IONOSPHERE: 'ionosphere'>, datasetNames=[<DatasetNames.IONOSPHERE: 'ionosphere'>, <DatasetNames.CHESS: 'chess'>, <DatasetNames.MUSHROOM: 'mushroom'>, <DatasetNames.SPAMBASE: 'spambase'>, <DatasetNames.BREAST_CANCER: 'breast-cancer'>, <DatasetNames.BANKNOTE: 'banknote'>, <DatasetNames.SONAR: 'sonar'>], non_null_samples=True, random_state=42, shuffle=True, main_url='https://archive.ics.uci.edu/ml/machine-learning-databases/', train_test_ratio=0.8, augmentation_count=1), simulation=SimulationSettings(n_workers_min_max=[3, 8], high_dis=1.0, low_dis=0.4, num_simulations=5, num_seeds=3, use_parallelization=True, max_parallel_workers=8, simulation_methods=<SimulationMethods.RANDOM_STATES: 'random_states'>), technique=TechniqueSettings(uncertainty_techniques=[<UncertaintyTechniques.STD: 'standard_deviation'>, <UncertaintyTechniques.ENTROPY: 'entropy'>, <UncertaintyTechniques.CV: 'coefficient_of_variation'>, <UncertaintyTechniques.PI: 'predicted_interval'>, <UncertaintyTechniques.CI: 'confidence_interval'>], consistency_techniques=[<ConsistencyTechniques.ONE_MINUS_UNCERTAINTY: 'one_minus_uncertainty'>, <ConsistencyTechniques.ONE_DIVIDED_BY_UNCERTAINTY: 'one_divided_by_uncertainty'>]), output=OutputSettings(path=PosixPath('/Users/artinmajdi/Documents/GitHubs/PhD/code/submodules/crowd/crowd_certain/outputs'), mode=<OutputModes.CALCULATE: 'calculate'>, save=True))"
      ]
     },
     "execution_count": 4,
     "metadata": {},
     "output_type": "execute_result"
    }
   ],
   "source": [
    "# Load the config.json file\n",
    "# config_path = '../config/config.json'  # Adjust this path if needed\n",
    "# with open(config_path, 'r') as f:\n",
    "#     config_dict = json.load(f)\n",
    "\n",
    "# Create a Settings object from the config file\n",
    "# config = Settings(**config_dict)\n",
    "config = get_settings()\n",
    "\n",
    "\n",
    "# Set the dataset you want to load\n",
    "config.dataset.dataset_name = params.DatasetNames.IONOSPHERE  # Change this to any dataset you want\n",
    "\n",
    "# # Load the dataset\n",
    "# print(f\"Loading dataset: {config.dataset.dataset_name.value}\")\n",
    "# data, feature_columns = dataset_loader.load_dataset(config=config)\n",
    "\n",
    "# data['train']\n",
    "config"
   ]
  },
  {
   "cell_type": "code",
   "execution_count": 18,
   "metadata": {},
   "outputs": [
    {
     "name": "stdout",
     "output_type": "stream",
     "text": [
      "/Users/artinmajdi/Documents/GitHubs/PhD/code/submodules/crowd/crowd_certain/notebooks\n"
     ]
    },
    {
     "data": {
      "text/plain": [
       "'notebooks'"
      ]
     },
     "execution_count": 18,
     "metadata": {},
     "output_type": "execute_result"
    }
   ],
   "source": [
    "path = pathlib.Path('./').resolve()\n",
    "print(path)\n",
    "path.name\n"
   ]
  },
  {
   "attachments": {},
   "cell_type": "markdown",
   "metadata": {
    "pycharm": {
     "name": "#%% md\n"
    }
   },
   "source": [
    "# <span style=\"color:orange; font-family:PT Sans Narrow; font-size:1em\"> Getting the simulation data for all databases </span>"
   ]
  },
  {
   "cell_type": "code",
   "execution_count": 3,
   "metadata": {
    "ExecuteTime": {
     "end_time": "2023-12-13T21:14:59.248352Z",
     "start_time": "2023-12-13T21:14:59.231871Z"
    }
   },
   "outputs": [],
   "source": [
    "# config = utils.reading_user_input_arguments( dataset_name='mushroom', dataset_mode='read_arff', parallel_processing=True, outputs_mode='calculate')\n",
    "# out_for_visual = utils.OutputsForVisualization(config=config)\n",
    "# out_for_visual.run_for_one_dataset()\n"
   ]
  },
  {
   "cell_type": "code",
   "execution_count": null,
   "metadata": {
    "ExecuteTime": {
     "end_time": "2023-12-13T21:19:03.913629Z",
     "start_time": "2023-12-13T21:19:01.051935Z"
    },
    "notebookRunGroups": {
     "groupValue": ""
    }
   },
   "outputs": [],
   "source": [
    "aim1_3 = utils.Aim1_3_Data_Analysis_Results(config=config).update()"
   ]
  },
  {
   "attachments": {},
   "cell_type": "markdown",
   "metadata": {
    "pycharm": {
     "name": "#%% md\n"
    }
   },
   "source": [
    "# <span style=\"color:orange; font-family:PT Sans Narrow; font-size:1em\"> Figures </span>"
   ]
  },
  {
   "attachments": {},
   "cell_type": "markdown",
   "metadata": {
    "pycharm": {
     "name": "#%% md\n"
    }
   },
   "source": [
    "## <span style=\"font-family:PT Sans Narrow; font-size:1em\"> Metrics </span>"
   ]
  },
  {
   "cell_type": "code",
   "execution_count": null,
   "metadata": {
    "ExecuteTime": {
     "start_time": "2023-12-13T21:15:00.589101Z"
    }
   },
   "outputs": [],
   "source": [
    "aim1_3.figure_metrics_mean_over_seeds_per_dataset_per_worker(metric=params.EvaluationMetricNames.ACC, nl=3, figsize=(12,10), font_scale=1.8)\n"
   ]
  },
  {
   "cell_type": "code",
   "execution_count": null,
   "metadata": {
    "ExecuteTime": {
     "start_time": "2023-12-13T21:15:00.591146Z"
    },
    "notebookRunGroups": {
     "groupValue": "1"
    }
   },
   "outputs": [],
   "source": [
    "# df = aim1_3.get_result(metric_name='metrics_all_datasets_workers')\n",
    "aim1_3.figure_metrics_all_datasets_workers(figsize=(13,15), font_scale=1.5)\n"
   ]
  },
  {
   "attachments": {},
   "cell_type": "markdown",
   "metadata": {
    "pycharm": {
     "name": "#%% md\n"
    }
   },
   "source": [
    "## <span style=\"font-family:PT Sans Narrow; font-size:1em\"> Weight Strength Relation</span>"
   ]
  },
  {
   "cell_type": "code",
   "execution_count": null,
   "metadata": {
    "ExecuteTime": {
     "start_time": "2023-12-13T21:15:00.594583Z"
    }
   },
   "outputs": [],
   "source": [
    "aim1_3.figure_weight_quality_relation(font_scale=1.5, fontsize=15, height=6, aspect=1.3)\n"
   ]
  },
  {
   "attachments": {},
   "cell_type": "markdown",
   "metadata": {
    "pycharm": {
     "name": "#%% md\n"
    }
   },
   "source": [
    "## <span style=\"font-family:PT Sans Narrow; font-size:1em\"> Confidence Scores </span>"
   ]
  },
  {
   "cell_type": "code",
   "execution_count": null,
   "metadata": {
    "ExecuteTime": {
     "start_time": "2023-12-13T21:15:00.595460Z"
    }
   },
   "outputs": [],
   "source": [
    "aim1_3.figure_F_heatmap(nl='NL3', metric_name='F_eval_one_worker_all_datasets', figsize=(13,13), font_scale=2)\n"
   ]
  },
  {
   "cell_type": "code",
   "execution_count": null,
   "metadata": {
    "ExecuteTime": {
     "start_time": "2023-12-13T21:15:00.596421Z"
    },
    "notebookRunGroups": {
     "groupValue": "2"
    },
    "pycharm": {
     "name": "#%%\n"
    }
   },
   "outputs": [],
   "source": [
    "aim1_3.figure_F_heatmap( metric_name='F_eval_one_dataset_all_workers', dataset_name=params.DatasetNames.KR_VS_KP, figsize=(13,8), font_scale=2)\n"
   ]
  },
  {
   "attachments": {},
   "cell_type": "markdown",
   "metadata": {
    "pycharm": {
     "name": "#%% md\n"
    }
   },
   "source": [
    "# <span style=\"color:orange; font-family:PT Sans Narrow; font-size:1em\"> Killing mlflow server </span>\n",
    "```bash\n",
    "pkill -f mlflow"
   ]
  },
  {
   "cell_type": "code",
   "execution_count": null,
   "metadata": {
    "ExecuteTime": {
     "start_time": "2023-12-13T21:15:00.597398Z"
    },
    "pycharm": {
     "name": "#%%\n"
    }
   },
   "outputs": [],
   "source": [
    "# closing the child mlflow session\n",
    "# mlflow.end_run()\n",
    "\n",
    "# closing the ssh session\n",
    "# mlflow_setup_main.ssh_session.kill()\n"
   ]
  },
  {
   "cell_type": "code",
   "execution_count": null,
   "metadata": {
    "ExecuteTime": {
     "start_time": "2023-12-13T21:15:00.598201Z"
    }
   },
   "outputs": [],
   "source": []
  }
 ],
 "metadata": {
  "kernelspec": {
   "display_name": ".venv",
   "language": "python",
   "name": "python3"
  },
  "language_info": {
   "codemirror_mode": {
    "name": "ipython",
    "version": 3
   },
   "file_extension": ".py",
   "mimetype": "text/x-python",
   "name": "python",
   "nbconvert_exporter": "python",
   "pygments_lexer": "ipython3",
   "version": "3.12.5"
  },
  "metadata": {
   "interpreter": {
    "hash": "97f50b47c5db4a373caba7d351ed0bd803d6a9b66b6e99b50d57389022e4f55d"
   }
  }
 },
 "nbformat": 4,
 "nbformat_minor": 2
}
