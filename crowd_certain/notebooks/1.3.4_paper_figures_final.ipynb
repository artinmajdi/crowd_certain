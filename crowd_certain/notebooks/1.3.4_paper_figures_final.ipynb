{
 "cells": [
  {
   "cell_type": "code",
   "execution_count": 1,
   "metadata": {
    "ExecuteTime": {
     "end_time": "2023-07-06T18:11:20.724433Z",
     "start_time": "2023-07-06T18:11:10.931280Z"
    },
    "notebookRunGroups": {
     "groupValue": ""
    },
    "pycharm": {
     "name": "#%%\n"
    }
   },
   "outputs": [
    {
     "name": "stderr",
     "output_type": "stream",
     "text": [
      "2023-11-03 20:14:39.205271: I tensorflow/core/platform/cpu_feature_guard.cc:182] This TensorFlow binary is optimized to use available CPU instructions in performance-critical operations.\n",
      "To enable the following instructions: SSE4.1 SSE4.2 AVX AVX2 FMA, in other operations, rebuild TensorFlow with the appropriate compiler flags.\n"
     ]
    },
    {
     "ename": "ModuleNotFoundError",
     "evalue": "No module named 'main'",
     "output_type": "error",
     "traceback": [
      "\u001b[0;31m---------------------------------------------------------------------------\u001b[0m",
      "\u001b[0;31mModuleNotFoundError\u001b[0m                       Traceback (most recent call last)",
      "\u001b[1;32m/storage/artinmajdi/projects/phd/code/submodules/crowd/crowd_certain/notebooks/1.3.4_paper_figures_final.ipynb Cell 1\u001b[0m line \u001b[0;36m4\n\u001b[1;32m      <a href='vscode-notebook-cell://ssh-remote%2Bcyverse/storage/artinmajdi/projects/phd/code/submodules/crowd/crowd_certain/notebooks/1.3.4_paper_figures_final.ipynb#W0sdnNjb2RlLXJlbW90ZQ%3D%3D?line=0'>1</a>\u001b[0m get_ipython()\u001b[39m.\u001b[39mrun_line_magic(\u001b[39m'\u001b[39m\u001b[39mreload_ext\u001b[39m\u001b[39m'\u001b[39m, \u001b[39m'\u001b[39m\u001b[39mautoreload\u001b[39m\u001b[39m'\u001b[39m)\n\u001b[1;32m      <a href='vscode-notebook-cell://ssh-remote%2Bcyverse/storage/artinmajdi/projects/phd/code/submodules/crowd/crowd_certain/notebooks/1.3.4_paper_figures_final.ipynb#W0sdnNjb2RlLXJlbW90ZQ%3D%3D?line=1'>2</a>\u001b[0m get_ipython()\u001b[39m.\u001b[39mrun_line_magic(\u001b[39m'\u001b[39m\u001b[39mautoreload\u001b[39m\u001b[39m'\u001b[39m, \u001b[39m'\u001b[39m\u001b[39m2\u001b[39m\u001b[39m'\u001b[39m)\n\u001b[0;32m----> <a href='vscode-notebook-cell://ssh-remote%2Bcyverse/storage/artinmajdi/projects/phd/code/submodules/crowd/crowd_certain/notebooks/1.3.4_paper_figures_final.ipynb#W0sdnNjb2RlLXJlbW90ZQ%3D%3D?line=3'>4</a>\u001b[0m \u001b[39mfrom\u001b[39;00m \u001b[39mcrowd_certain\u001b[39;00m \u001b[39mimport\u001b[39;00m utils\n\u001b[1;32m      <a href='vscode-notebook-cell://ssh-remote%2Bcyverse/storage/artinmajdi/projects/phd/code/submodules/crowd/crowd_certain/notebooks/1.3.4_paper_figures_final.ipynb#W0sdnNjb2RlLXJlbW90ZQ%3D%3D?line=4'>5</a>\u001b[0m \u001b[39mfrom\u001b[39;00m \u001b[39mcrowd_certain\u001b[39;00m \u001b[39mimport\u001b[39;00m load_data\n\u001b[1;32m      <a href='vscode-notebook-cell://ssh-remote%2Bcyverse/storage/artinmajdi/projects/phd/code/submodules/crowd/crowd_certain/notebooks/1.3.4_paper_figures_final.ipynb#W0sdnNjb2RlLXJlbW90ZQ%3D%3D?line=6'>7</a>\u001b[0m \u001b[39mimport\u001b[39;00m \u001b[39mseaborn\u001b[39;00m \u001b[39mas\u001b[39;00m \u001b[39msns\u001b[39;00m\n",
      "File \u001b[0;32m/storage/artinmajdi/projects/phd/code/submodules/crowd/crowd_certain/__init__.py:1\u001b[0m\n\u001b[0;32m----> 1\u001b[0m \u001b[39mfrom\u001b[39;00m \u001b[39m.\u001b[39;00m\u001b[39mutilities\u001b[39;00m \u001b[39mimport\u001b[39;00m utils, utils_refactored, load_data\n\u001b[1;32m      3\u001b[0m __all__ \u001b[39m=\u001b[39m [\u001b[39m'\u001b[39m\u001b[39mutils\u001b[39m\u001b[39m'\u001b[39m, \u001b[39m'\u001b[39m\u001b[39mutils_refactored\u001b[39m\u001b[39m'\u001b[39m, \u001b[39m'\u001b[39m\u001b[39mload_data\u001b[39m\u001b[39m'\u001b[39m]\n",
      "File \u001b[0;32m/storage/artinmajdi/projects/phd/code/submodules/crowd/crowd_certain/utilities/__init__.py:1\u001b[0m\n\u001b[0;32m----> 1\u001b[0m \u001b[39mfrom\u001b[39;00m \u001b[39m.\u001b[39;00m \u001b[39mimport\u001b[39;00m utils, load_data, utils_refactored\n",
      "File \u001b[0;32m/storage/artinmajdi/projects/phd/code/submodules/crowd/crowd_certain/utilities/utils.py:26\u001b[0m\n\u001b[1;32m     23\u001b[0m \u001b[39mfrom\u001b[39;00m \u001b[39msklearn\u001b[39;00m \u001b[39mimport\u001b[39;00m ensemble \u001b[39mas\u001b[39;00m sk_ensemble, metrics \u001b[39mas\u001b[39;00m sk_metrics\n\u001b[1;32m     24\u001b[0m \u001b[39mfrom\u001b[39;00m \u001b[39mtqdm\u001b[39;00m \u001b[39mimport\u001b[39;00m tqdm_notebook \u001b[39mas\u001b[39;00m tqdm\n\u001b[0;32m---> 26\u001b[0m \u001b[39mfrom\u001b[39;00m \u001b[39mmain\u001b[39;00m\u001b[39m.\u001b[39;00m\u001b[39maims\u001b[39;00m\u001b[39m.\u001b[39;00m\u001b[39mcrowd\u001b[39;00m \u001b[39mimport\u001b[39;00m load_data_crowd \u001b[39mas\u001b[39;00m load_data\n\u001b[1;32m     29\u001b[0m \u001b[39mclass\u001b[39;00m \u001b[39mDict2Class\u001b[39;00m:\n\u001b[1;32m     30\u001b[0m \u001b[39m\t\u001b[39m\u001b[39m\"\"\" It takes a dictionary and turns it into a class \"\"\"\u001b[39;00m\n",
      "\u001b[0;31mModuleNotFoundError\u001b[0m: No module named 'main'"
     ]
    }
   ],
   "source": [
    "%reload_ext autoreload\n",
    "%autoreload 2\n",
    "\n",
    "from crowd_certain import utils\n",
    "from crowd_certain import load_data\n",
    "\n",
    "import seaborn as sns\n",
    "import pandas as pd\n",
    "import ipywidgets as widgets\n"
   ]
  },
  {
   "attachments": {},
   "cell_type": "markdown",
   "metadata": {
    "pycharm": {
     "name": "#%% md\n"
    }
   },
   "source": [
    "# <span style=\"color:orange; font-family:PT Sans Narrow; font-size:1em\"> MLFlow setup </span>"
   ]
  },
  {
   "cell_type": "code",
   "execution_count": null,
   "metadata": {
    "pycharm": {
     "name": "#%%\n"
    }
   },
   "outputs": [],
   "source": [
    "# mlflow_setup_main = funcs.AIM1_3_MLFLOW_SETUP(experiment_name='aim1_3_final_results')\n",
    "# run = mlflow_setup_main.get_simulation(run_name='Final_results', mlflow_mode='RE_RUNNING_OLD_SIMULATION', download_artifacts=False) # NEW_SIMULATION , RE_RUNNING_OLD_SIMULATION , LOADING_OLD_SIMULATION\n"
   ]
  },
  {
   "attachments": {},
   "cell_type": "markdown",
   "metadata": {
    "pycharm": {
     "name": "#%% md\n"
    }
   },
   "source": [
    "# <span style=\"color:orange; font-family:PT Sans Narrow; font-size:1em\"> Getting the simulation data for all databases </span>"
   ]
  },
  {
   "cell_type": "code",
   "execution_count": null,
   "metadata": {},
   "outputs": [],
   "source": [
    "# config = utils.reading_user_input_arguments(jupyter=True, dataset_mode='read_arff',parallel_processing=True, random_state=0)\n",
    "# data, feature_columns = load_data.aim1_3_read_download_UCI_database(config=config, dataset_name='ionosphere')\n",
    "# data['test'].true\n"
   ]
  },
  {
   "cell_type": "code",
   "execution_count": null,
   "metadata": {},
   "outputs": [],
   "source": [
    "# config = utils.reading_user_input_arguments( dataset_name='mushroom', dataset_mode='read_arff', parallel_processing=True, outputs_mode='calculate')\n",
    "# out_for_visual = utils.OutputsForVisualization(config=config)\n",
    "# out_for_visual.run_for_one_dataset()\n"
   ]
  },
  {
   "cell_type": "code",
   "execution_count": null,
   "metadata": {
    "notebookRunGroups": {
     "groupValue": "1"
    }
   },
   "outputs": [],
   "source": [
    "config = utils.reading_user_input_arguments(jupyter=True, dataset_mode='read_arff',parallel_processing=True)\n",
    "aim1_3 = utils.Aim1_3_Data_Analysis_Results(config=config)\n"
   ]
  },
  {
   "attachments": {},
   "cell_type": "markdown",
   "metadata": {
    "pycharm": {
     "name": "#%% md\n"
    }
   },
   "source": [
    "# <span style=\"color:orange; font-family:PT Sans Narrow; font-size:1em\"> Figures </span>"
   ]
  },
  {
   "attachments": {},
   "cell_type": "markdown",
   "metadata": {
    "pycharm": {
     "name": "#%% md\n"
    }
   },
   "source": [
    "## <span style=\"font-family:PT Sans Narrow; font-size:1em\"> Metrics </span>"
   ]
  },
  {
   "cell_type": "code",
   "execution_count": null,
   "metadata": {},
   "outputs": [],
   "source": [
    "aim1_3.figure_metrics_mean_over_seeds_per_dataset_per_worker(metric='ACC', nl=3, figsize=(12,10), font_scale=1.8)\n"
   ]
  },
  {
   "cell_type": "code",
   "execution_count": null,
   "metadata": {
    "notebookRunGroups": {
     "groupValue": "1"
    }
   },
   "outputs": [],
   "source": [
    "# df = aim1_3.get_result(metric_name='metrics_all_datasets_workers')\n",
    "\n",
    "aim1_3.figure_metrics_all_datasets_workers(figsize=(13,15), font_scale=2)\n"
   ]
  },
  {
   "cell_type": "code",
   "execution_count": null,
   "metadata": {},
   "outputs": [],
   "source": []
  },
  {
   "attachments": {},
   "cell_type": "markdown",
   "metadata": {
    "pycharm": {
     "name": "#%% md\n"
    }
   },
   "source": [
    "## <span style=\"font-family:PT Sans Narrow; font-size:1em\"> Weight Strength Relation</span>"
   ]
  },
  {
   "cell_type": "code",
   "execution_count": null,
   "metadata": {},
   "outputs": [],
   "source": [
    "aim1_3.figure_weight_quality_relation(font_scale=1.9, fontsize=20, height=4, aspect=1.3)\n"
   ]
  },
  {
   "attachments": {},
   "cell_type": "markdown",
   "metadata": {
    "pycharm": {
     "name": "#%% md\n"
    }
   },
   "source": [
    "## <span style=\"font-family:PT Sans Narrow; font-size:1em\"> Confidence Scores </span>"
   ]
  },
  {
   "cell_type": "code",
   "execution_count": null,
   "metadata": {},
   "outputs": [],
   "source": [
    "aim1_3.figure_F_heatmap(nl='NL3', metric_name='F_eval_one_worker_all_datasets', figsize=(13,13), font_scale=2)\n"
   ]
  },
  {
   "cell_type": "code",
   "execution_count": null,
   "metadata": {
    "notebookRunGroups": {
     "groupValue": "2"
    },
    "pycharm": {
     "name": "#%%\n"
    }
   },
   "outputs": [],
   "source": [
    "aim1_3.figure_F_heatmap( metric_name='F_eval_one_dataset_all_labelers', dataset_name='kr-vs-kp', figsize=(13,8), font_scale=2)\n"
   ]
  },
  {
   "attachments": {},
   "cell_type": "markdown",
   "metadata": {
    "pycharm": {
     "name": "#%% md\n"
    }
   },
   "source": [
    "# <span style=\"color:orange; font-family:PT Sans Narrow; font-size:1em\"> Killing mlflow server </span>\n",
    "```bash\n",
    "pkill -f mlflow"
   ]
  },
  {
   "cell_type": "code",
   "execution_count": null,
   "metadata": {
    "pycharm": {
     "name": "#%%\n"
    }
   },
   "outputs": [],
   "source": [
    "# closing the child mlflow session\n",
    "# mlflow.end_run()\n",
    "\n",
    "# closing the ssh session\n",
    "# mlflow_setup_main.ssh_session.kill()\n"
   ]
  }
 ],
 "metadata": {
  "kernelspec": {
   "display_name": "main",
   "language": "python",
   "name": "python3"
  },
  "language_info": {
   "codemirror_mode": {
    "name": "ipython",
    "version": 3
   },
   "file_extension": ".py",
   "mimetype": "text/x-python",
   "name": "python",
   "nbconvert_exporter": "python",
   "pygments_lexer": "ipython3",
   "version": "3.11.6"
  },
  "metadata": {
   "interpreter": {
    "hash": "97f50b47c5db4a373caba7d351ed0bd803d6a9b66b6e99b50d57389022e4f55d"
   }
  },
  "vscode": {
   "interpreter": {
    "hash": "c7fa6e65c4f227d77882d4bcc641a942485d93f6372413baaff8defdf53a058c"
   }
  }
 },
 "nbformat": 4,
 "nbformat_minor": 2
}
